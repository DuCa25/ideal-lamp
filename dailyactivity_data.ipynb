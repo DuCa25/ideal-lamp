{
  "nbformat": 4,
  "nbformat_minor": 0,
  "metadata": {
    "colab": {
      "provenance": [],
      "authorship_tag": "ABX9TyP+4tZih/pxGYzq6gJL5xRx"
    },
    "kernelspec": {
      "name": "python3",
      "display_name": "Python 3"
    },
    "language_info": {
      "name": "python"
    }
  },
  "cells": [
    {
      "cell_type": "code",
      "execution_count": null,
      "metadata": {
        "id": "cqOqc_h89iz7"
      },
      "outputs": [],
      "source": [
        "# dailyactivity_cleaned_data.csv from kaggle cco public domain"
      ]
    },
    {
      "cell_type": "code",
      "source": [
        "import pandas as pd\n",
        "import matplotlib.pyplot as plt\n",
        "import seaborn as sns\n",
        "import os"
      ],
      "metadata": {
        "id": "Jt6ANQMt_iWI"
      },
      "execution_count": null,
      "outputs": []
    },
    {
      "cell_type": "code",
      "source": [
        "!curl -o dailyactivity_cleaned_data.csv \"https://www.kaggle.com/api/v1/datasets/download/kinsleywere/dailyactivity-cleaned-data\""
      ],
      "metadata": {
        "id": "3qiQYvYIMWqQ"
      },
      "execution_count": null,
      "outputs": []
    },
    {
      "cell_type": "code",
      "source": [
        "dailyactivity_data_csv='dailyactivity_cleaned_data.csv'"
      ],
      "metadata": {
        "id": "IA7oL4xOOH1a"
      },
      "execution_count": null,
      "outputs": []
    },
    {
      "cell_type": "code",
      "source": [
        "try:\n",
        "  df=pd.read_csv(dailyactivity_data_csv)\n",
        "  print(f\"Dataset'{dailyactivity_data_csv}'loaded successfully\")\n",
        "except FileNotFoundError:\n",
        "  print(f\"Error:'{dailyactivity_data_csv}'not found, make sure you uploaded the file correctly\")\n",
        "except Exception as e:\n",
        "  print(f\"upload error:{e}\")"
      ],
      "metadata": {
        "id": "n71YAvRwO-Gh",
        "collapsed": true
      },
      "execution_count": null,
      "outputs": []
    },
    {
      "cell_type": "code",
      "source": [
        "# initial visualization of the data\n",
        "# visualize the first basic information to understand how the human activity data in this dataset is structured\n",
        "print(\"\\ninitial data visualization, the first five rows of the dataset:\")"
      ],
      "metadata": {
        "id": "WiHWcNdbVyw1"
      },
      "execution_count": null,
      "outputs": []
    },
    {
      "cell_type": "code",
      "source": [
        "# the first five rows of the dataset\n",
        "print(\"\\nthe first five rows of the dataset:\")\n",
        "print(df.head())   # by default df.head() shows the first 5 rows, the space between the parenthesis is empty\n"
      ],
      "metadata": {
        "id": "oxpSQcRaYTM4"
      },
      "execution_count": null,
      "outputs": []
    },
    {
      "cell_type": "code",
      "source": [
        "# data types, columns, missing values - information about the dataset\n",
        "print(\"\\ninformation about the dataset (info()):\")\n",
        "df.info()\n",
        "print(\"\\missing values(isnull(),sum()):\")\n",
        "print(df.isnull().sum)\n"
      ],
      "metadata": {
        "id": "pC3xherTZ5QN"
      },
      "execution_count": null,
      "outputs": []
    },
    {
      "cell_type": "code",
      "source": [
        "# with reference to the numeric columns, descriptive statistics\n",
        "print(\"\\ndescriptive statistics (describes()):\")\n",
        "df.describe()"
      ],
      "metadata": {
        "id": "lwKiSs8vbUYP"
      },
      "execution_count": null,
      "outputs": []
    },
    {
      "cell_type": "code",
      "source": [
        "total_steps='TotalSteps'\n",
        "total_distance='TotalDistance'\n",
        "very_active_distance='VeryActiveDistance'\n",
        "moderate_active_distance='ModerateActiveDistance'\n",
        "\n",
        "# graphical visualization of data\n",
        "print(\"\\graphical visualization of data\")"
      ],
      "metadata": {
        "id": "xC1rerQeqyvX"
      },
      "execution_count": null,
      "outputs": []
    },
    {
      "cell_type": "code",
      "source": [
        "# set the seaborn style\n",
        "sns.set_style('whitegrid')\n",
        "plt.figure(figsize=(15,5))"
      ],
      "metadata": {
        "id": "e2A_JLw70FxG"
      },
      "execution_count": null,
      "outputs": []
    },
    {
      "cell_type": "code",
      "source": [
        "# distribution of numerical variables related to daily human motor activity\n",
        "# create a bar chart\n",
        "sns.barplot(x=total_steps, y=total_distance, palette=\"viridis\", data=df)\n",
        "plt.title(f'number of steps related to total distances')\n",
        "plt.xlabel('number of steps')\n",
        "plt.ylabel('distance')\n",
        "plt.xticks(rotation=45, ha='right')   # rotate labels to improve readability"
      ],
      "metadata": {
        "id": "YynNfWji2oqs"
      },
      "execution_count": null,
      "outputs": []
    },
    {
      "cell_type": "code",
      "source": [
        "plt.tight_layout()   # adapt automatically the subplots\n",
        "plt.show()"
      ],
      "metadata": {
        "id": "yoF43jEN-lnm"
      },
      "execution_count": null,
      "outputs": []
    },
    {
      "cell_type": "markdown",
      "metadata": {
        "id": "b3d4a378"
      },
      "source": [
        "# Task\n",
        "Review and correct the provided Python code to ensure it downloads a file, loads the data into a pandas DataFrame, and generates a plot using seaborn and matplotlib. The corrected code should run without errors and produce the expected output."
      ]
    },
    {
      "cell_type": "markdown",
      "metadata": {
        "id": "bfe9234b"
      },
      "source": [
        "## Fix file download\n",
        "\n",
        "### Subtask:\n",
        "Correct the curl command to properly download the file.\n"
      ]
    },
    {
      "cell_type": "markdown",
      "metadata": {
        "id": "2a9f803c"
      },
      "source": [
        "**Reasoning**:\n",
        "Correct the curl command to properly download the file by adding a space between the output filename and the URL.\n",
        "\n"
      ]
    }
  ]
}