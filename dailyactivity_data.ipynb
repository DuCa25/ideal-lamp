{
  "nbformat": 4,
  "nbformat_minor": 0,
  "metadata": {
    "colab": {
      "provenance": [],
      "authorship_tag": "ABX9TyMtq9ibTYnEf0P+kovKaJLW"
    },
    "kernelspec": {
      "name": "python3",
      "display_name": "Python 3"
    },
    "language_info": {
      "name": "python"
    }
  },
  "cells": [
    {
      "cell_type": "code",
      "execution_count": null,
      "metadata": {
        "id": "cqOqc_h89iz7"
      },
      "outputs": [],
      "source": [
        "# dailyactivity_cleaned_data.csv from kaggle cco public domain"
      ]
    },
    {
      "cell_type": "code",
      "source": [
        "import pandas as pd\n",
        "import matplotlib.pyplot as plt\n",
        "import seaborn as sns\n",
        "import os"
      ],
      "metadata": {
        "id": "Jt6ANQMt_iWI"
      },
      "execution_count": null,
      "outputs": []
    },
    {
      "cell_type": "code",
      "source": [
        "!curl -o dailyactivity_cleaned_data.csv\"https://www.kaggle.com/api/v1/datasets/download/kinsleywere/dailyactivity-cleaned-data\""
      ],
      "metadata": {
        "id": "3qiQYvYIMWqQ"
      },
      "execution_count": null,
      "outputs": []
    },
    {
      "cell_type": "code",
      "source": [
        "dailyactivity_data_csv='dailyactivity_cleaned_data.csv'"
      ],
      "metadata": {
        "id": "IA7oL4xOOH1a"
      },
      "execution_count": null,
      "outputs": []
    },
    {
      "cell_type": "code",
      "source": [
        "try:\n",
        "  df=pd.read_csv(dailyactivity_data_csv)\n",
        "  print(f\"Dataset'{dailyactivity_data_csv}'loaded successfully\")\n",
        "except FileNotFoundError:\n",
        "  print(f\"Error:'{dailyactivity_data_csv}'not found, make sure you uploaded the file correctly\")\n",
        "  exit()\n",
        "except Exeption as e:\n",
        "  print(f\"upload error:{e}\")\n",
        "  exit()\n"
      ],
      "metadata": {
        "id": "n71YAvRwO-Gh"
      },
      "execution_count": null,
      "outputs": []
    },
    {
      "cell_type": "code",
      "source": [
        "# initial visualization of the data\n",
        "# visualize the first basic information to understand how the human activity data in this dataset is structured\n",
        "print(\"\\ninitial data visualization, the first five rows of the dataset:\")"
      ],
      "metadata": {
        "id": "WiHWcNdbVyw1"
      },
      "execution_count": null,
      "outputs": []
    },
    {
      "cell_type": "code",
      "source": [
        "# the first five rows of the dataset\n",
        "print(\"\\nthe first five rows of the dataset:\")\n",
        "print(df.head())"
      ],
      "metadata": {
        "id": "oxpSQcRaYTM4"
      },
      "execution_count": null,
      "outputs": []
    },
    {
      "cell_type": "code",
      "source": [
        "# data types, columns, missing values - information about the dataset\n",
        "print(\"\\ninformation about the dataset (info()):\")\n",
        "df.info()\n",
        "print(\"\\missing values(isnull(),sum()):\")\n",
        "print(df.isnull().sum)\n"
      ],
      "metadata": {
        "id": "pC3xherTZ5QN"
      },
      "execution_count": null,
      "outputs": []
    },
    {
      "cell_type": "code",
      "source": [
        "# with reference to the numeric columns, descriptive statistics\n",
        "print(\"\\ndescriptive statistics (describes()):\")\n",
        "df.describe()"
      ],
      "metadata": {
        "id": "lwKiSs8vbUYP"
      },
      "execution_count": null,
      "outputs": []
    }
  ]
}