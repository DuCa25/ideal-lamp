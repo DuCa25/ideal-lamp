{
  "nbformat": 4,
  "nbformat_minor": 0,
  "metadata": {
    "colab": {
      "provenance": [],
      "authorship_tag": "ABX9TyPCIeihXOwWJ3abRdZTLM/r"
    },
    "kernelspec": {
      "name": "python3",
      "display_name": "Python 3"
    },
    "language_info": {
      "name": "python"
    }
  },
  "cells": [
    {
      "cell_type": "code",
      "execution_count": 11,
      "metadata": {
        "id": "Kk8_DJaifQkE"
      },
      "outputs": [],
      "source": [
        "# Redundant data cleaning example - first method"
      ]
    },
    {
      "cell_type": "code",
      "source": [
        "def remove_duplicates(original_list):\n",
        "  duplicate_free=[]\n",
        "  for n in original_list:\n",
        "    if n not in duplicate_free:\n",
        "      duplicate_free.append(n)\n",
        "  return duplicate_free\n",
        "\n",
        "original_list=[1.00,1.00,1.00,0.34,1.25,10.39,16.16,8.81,8.81,40.23,5.50]\n",
        "print(remove_duplicates(original_list))\n",
        "print(set(original_list))"
      ],
      "metadata": {
        "colab": {
          "base_uri": "https://localhost:8080/"
        },
        "id": "XS7OdkMifzlp",
        "outputId": "7ff565fd-2219-402c-f7cd-5c11f04b5c8f"
      },
      "execution_count": 12,
      "outputs": [
        {
          "output_type": "stream",
          "name": "stdout",
          "text": [
            "[1.0, 0.34, 1.25, 10.39, 16.16, 8.81, 40.23, 5.5]\n",
            "{0.34, 1.0, 1.25, 5.5, 8.81, 40.23, 10.39, 16.16}\n"
          ]
        }
      ]
    },
    {
      "cell_type": "code",
      "source": [
        "# performance comparison of duplicates removal methods"
      ],
      "metadata": {
        "id": "Qj0qP8T0qGPP"
      },
      "execution_count": null,
      "outputs": []
    },
    {
      "cell_type": "code",
      "source": [
        "import time\n",
        "Reps=1000000\n",
        "start_time=time.perf_counter()\n",
        "for n in range(Reps):remove_duplicates(original_list)\n",
        "end_time=time.perf_counter()\n",
        "run_time = end_time - start_time # Calculate and assign run_time\n",
        "print(f\"finished for loop in {run_time:.4f}secs\")\n",
        "start_time=time.perf_counter()\n",
        "for n in range(Reps):set(original_list)\n",
        "end_time=time.perf_counter()\n",
        "run_time=end_time-start_time\n",
        "print(f\"finished set methon in {run_time:.4f}secs\")"
      ],
      "metadata": {
        "colab": {
          "base_uri": "https://localhost:8080/"
        },
        "id": "LTvc8Gn1jGZ0",
        "outputId": "3907713e-43c6-4a80-f1d6-9c4f49f19a76"
      },
      "execution_count": 15,
      "outputs": [
        {
          "output_type": "stream",
          "name": "stdout",
          "text": [
            "finished for loop in 0.9014secs\n",
            "finished set methon in 0.5792secs\n"
          ]
        }
      ]
    }
  ]
}